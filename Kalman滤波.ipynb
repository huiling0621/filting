{
 "cells": [
  {
   "cell_type": "markdown",
   "metadata": {},
   "source": [
    "### Step2. The innovation Process\n",
    "Before we introduce the innovation process we will establish a useful representation of the functions in the space  \\\\ \n",
    "\n",
    "$\\mathcal{L}(Z,T)$=the closure in $ L^2(P)$ of all linear combinations  $c_o+c_1Z_{t_1}+\\cdots+c_kZ_{t_k}; 0\\leq t_i \\leq T ,c_j \\in \\mathbf{R}.$ \n",
    "\n",
    "If $f\\in L^2[0,T]$,note that\n",
    "$$\n",
    " E[(\\int_0^T f(t)dZ_t)^2] =E[(\\int_0^T f(t)G(t)X_tdt)^2]+E[(\\int_0^T f(t)D(t)dV_t)^2]+2E[(\\int_0^T f(t)G(t)X_tdt)(\\int_0^Tf(t)D(t)dV_t)]\n",
    "$$ \n",
    "\n",
    "\n",
    "$E[(\\int_0^T f(t)G(t)X_tdt)^2] \\leq A_1\\cdot \\int_0^Tf(t)^2dt$ by the Cauchy-Schwartz inequality,\\\\\n",
    "$E[(\\int_0^T f(t)D(t)dV_t)^2]=\\int_0^Tf(t)^2D^2(t)dt$ by the It$\\hat{o}$ isometry \\\\\n",
    "\n",
    "\n",
    "and$\\begin{Bmatrix}\n",
    "X_t\n",
    "\\end{Bmatrix},\\begin{Bmatrix}\n",
    "V_t\n",
    "\\end{Bmatrix}$ \n",
    "are independent ,we conclude that \n",
    "$\\begin{align}A_0\\int_0^Tf^2(t)dt\\leq E[(\\int_0^Tf(t)dZ_t)^2]\\leq A_2\\int_0^Tf^2(t)dt\n",
    "\\end{align}$\\\\\n",
    "\n",
    "\n",
    "for some constants $A_0,A_1,A_2$ not depending on $f$.\n"
   ]
  },
  {
   "cell_type": "markdown",
   "metadata": {},
   "source": [
    "下面我们要证明\\\\\n",
    "\n",
    "\n",
    "$\\mathbf{引理6.2.4}$\\\\\n",
    "\n",
    "$\\mathcal{L}(Z,T)=\n",
    "\\begin{Bmatrix}\n",
    "c_0+\\int_0^Tf(t)dZ_t;f\\in L^2[0,T],c_0\\in \\mathbf{R}\n",
    "\\end{Bmatrix}\n",
    "$\n"
   ]
  },
  {
   "cell_type": "markdown",
   "metadata": {},
   "source": [
    "$Proof.$Denote the right hand side by $\\mathcal{N}(Z,T)$\n",
    "\n",
    "* a)$\\mathcal{N}(Z,T)\\subset\\mathcal{L}(Z,T)$\n",
    "* b)$\\mathcal{N}(Z,T)$contains all linear combinations of the form\n",
    "$$c_o+c_1Z_{t_1}+\\cdots+c_kZ_{t_k}; 0\\leq t_i \\leq T $$\n",
    "* c)$\\mathcal{N}(Z,T)$ is closed in $L^2(P)$\n",
    "逐步证明上面三条：\n",
    "* a):This follows from the fact that if $f$is continuous then \n",
    "$$\\int_0^Tf(t)dZ_t=\n",
    "\\lim_{n \\to \\infty}\\sum_jf(j\\cdot2^{-n})\\cdot (Z_{(j+1)2^{-n}}-Z_{j\\cdot 2^{-n}})$$\n",
    "* b):Support $0\\leq t_1< t_2<\\cdots<t_k\\leq T.$We can write \n",
    "$$\\sum_{i=1}^kc_iZ_{t_i}=\\sum_{j=0}^{k-1}c_j^{'}\\Delta Z_j\n",
    "=\\sum_{j=0}^{k-1}\\int_{t_j}^{t_{j+1}}c_j^{'}dZ_t\n",
    "=\\int_0^T(\\sum_{j=0}^{k-1}c_j^{'}\\mathcal{X}_[t_j,t_{j+1}](t))dZ_t$$\\\\\n",
    "\n",
    "where $\\Delta Z_j=Z_{t_{j+1}}-Z_{t_j}$\n",
    "* c): This follows from (6.2.11) and the fact that $L^2[0,T]$ is complete.\\\\\n",
    "\n",
    "Now we define the $\\mathbf{innovation \\ process\\ N_t}$as follows:\\\\\n",
    "\n",
    "\n",
    "$\\begin{align}\n",
    "N_t=Z_t-\\int_0^t(GX)_s^{\\hat{}}ds,where \\ (GX)_s^{\\hat{}}=\\mathcal{P}_{\\mathcal{L}(Z,s)}(G(s)X_s)=G(s)\\hat{X}_s\n",
    "\\end{align}$\n",
    "i.e\n",
    "$\\begin{align}\n",
    "dN_t=G(t)(X_t-\\hat{X}_t)dt+D(t)dV_t\n",
    "\\end{align}$"
   ]
  },
  {
   "cell_type": "markdown",
   "metadata": {},
   "source": [
    "$\\mathbf{引理6.2.5}$\n",
    "* (i)$N_t$ has orthogonal increments\n",
    "* (ii)$E(N_t^2)=\\int_0^tD^2(s)ds$\n",
    "* (iii)$\\mathcal{L}(N,t)=\\mathcal{L}(Z,t)$for all $0\\leq t$\n",
    "* (iv)$N_t$ is a Gaussian process"
   ]
  },
  {
   "cell_type": "markdown",
   "metadata": {},
   "source": [
    "$proof.$\n",
    "\n",
    "* (i): If $s<t$ and $Y\\in \\mathcal{L}(Z,s)$ we have \n",
    "$$E[(N_t-N_s)Y]=E[(\\int_s^tG(r)(X_r-\\hat{X_r})dr+\\int_s^tD(r)dV_r)Y]  \\\\=\\int_s^tG(r)E[(X_r-\\hat{X}_r)Y]dr+E[(\\int_s^tDdV)Y]=0$$\n",
    "since $X_r-\\hat{X}_r\\bot \\mathcal{L}(Z,r)\\supset \\mathcal{L}(Z,s)$ for $s\\leq t$ and V has independent increments.\n",
    "* (ii):By $It\\hat{o}$ formula ,with $g(t,x)= x^2$, we have \n",
    "$$d(N_t^2)=2N_tdN_t+\\frac{1}{2}2(dN_t)^2=2N_tdN_t + D^2 dt$$\n",
    "So \n",
    "$$E[N_t^2]=E[\\int_0^t2N_sdN_s]+\\int_0^tD^2(s)ds$$\n",
    "\n",
    "Now\n",
    "$$\\int_0^tN_sdN_s=\\lim_{\\Delta t_j \\to 0}\\sum N_{t_j}[N_{t_{j+1}}-N_{t_j}],$$\n",
    "so since $N$ has orthogonal increments we have  \n",
    "$$E[\\int_0^tN_sdN_s]=0,  \\ and \\ (ii) \\ follows$$\n",
    "* (iii):It is clear that $\\mathcal{L}(N,t)\\subset \\mathcal{L}(Z,t)$ for all $0\\leq t$. To establish the opposite inclusion we use Lemma 6.2.4 .So choose $f\\in L^2[0,t]$ and let us see what functions can be obtained in the form\n",
    "$$\\int_0^tf(s)dN_s=\\int_0^tf(s)dZ_s-\\int_0^tf(r)G(r)\\hat{X}_rdr \\\\\n",
    "=\\int_0^tf(s)dZ_s-\\int_0^tf(r)[\\int_0^rg(r,s)dZ_s]dr-\\int_0^tf(r)c(r)dr \\\\\n",
    "=\\int_0^t[f(s)-\\int_s^tf(r)g(r,s)dr]dZ_s-\\int_0^tf(r)c(r)dr$$\n",
    "\n",
    "where we have used  引理6.2.2 and 引理6.2.4 to write,for each $r$,\n",
    "$$(GX)_r^{\\hat{}}=c(r)+\\int_0^rg(r,s)dZ_s \\  \\ for \\ some\\ g(r,\\cdot),c(r)\\in \\mathbf{R}$$\n",
    "\n"
   ]
  },
  {
   "cell_type": "markdown",
   "metadata": {},
   "source": [
    "从 $\\mathbf{the \\ theory \\ of\\ Volterra\\ integral\\ equations}$中可以知道 ，对于任意的$h\\in L^2[0,t]$ ，都存在 $f\\in L^2[0,t]$ 满足下面的等式\n",
    "$$f(s)-\\int_s^tf(r)g(r,s)dr = h(s)$$\n",
    "那么，选择$h=\\mathcal{X}_{[0,t_1]}$，其中$0\\leq t_1 \\leq t$，得到\n",
    "$$\\int_0^tf(r)c(r)dr+\\int_0^tf(s)dN_s=\\int_0^t\\mathcal{X}_{[0,t_1]}(s)dZ_s = Z_{t_1}$$\n",
    "这就证明了$\\mathcal{L}(N,t)\\supset \\mathcal{L}(Z,t)$"
   ]
  },
  {
   "cell_type": "markdown",
   "metadata": {},
   "source": [
    "* (iv):$\\hat{X}_t$ is limit ($L^2(P)$) of linear combinations of the form ,\n",
    "$$M = c_0+c_1Z_{s1}+\\cdots+c_kZ_{sk},  \\  \\ where s_k\\leq t.$$\n",
    "因此，$$(\\hat{X}_{t1},\\cdots,\\hat{X}_{tm})$$\n",
    "是有限的m随机变量$(M^{(1)},\\cdots,M^{(m)})$。由于$\\begin{Bmatrix}\n",
    "Z_t\n",
    "\\end{Bmatrix}$是Gaussian过程，则$(M^{(1)},\\cdots,M^{(m)})$是正态分布。因此$\\begin{Bmatrix}\n",
    "\\hat{X_t}\n",
    "\\end{Bmatrix}$也是Gaussian。\n",
    "\n",
    "同样\n",
    "$$N_t=Z_t-\\int_0^tG(s)\\hat{X_s}ds$$也是Gaussian\\\\\\"
   ]
  },
  {
   "cell_type": "markdown",
   "metadata": {
    "collapsed": true
   },
   "source": [
    "### Step 3. Innovation Process and Brownian Motion"
   ]
  },
  {
   "cell_type": "markdown",
   "metadata": {
    "collapsed": true
   },
   "source": [
    "设$N_t=Z_t-\\int_0^tG(s)\\hat{X_s}ds$是Step 2定义的更新过程。前面已经假设$D(t)$在有界时间内时有界的且远离0（$D(t)$ is bounded away from 0 on bounded intervals）\\\\\n",
    "\n",
    "定义过程$R_t(\\omega)$如下：\n",
    "$\\begin{align}\n",
    "dR_t=\\frac{1}{D(t)}dN_t(\\omega);   \n",
    " \\   \\  t\\leq 0,R_0=0\n",
    "\\end{align}$\n",
    "\n"
   ]
  },
  {
   "cell_type": "markdown",
   "metadata": {
    "collapsed": true
   },
   "source": [
    "#### 引理 6.2.6 \n",
    "$R_t$ is a 1-dimensional Brownian motion."
   ]
  },
  {
   "cell_type": "markdown",
   "metadata": {
    "collapsed": true
   },
   "source": [
    "### $Proof:$\n",
    "observe that:\n",
    "* (i) $R_t$ has continuous paths\n",
    "* (ii)$R_t$ has orthogonal increments (since $N_t$ has)\n",
    "* (iii)$R_t$ is Gaussian (since $N_t$ is)\n",
    "* (iv)$E[R_t]=0$ and $E[R_sR_t]=min(s,t)$.\n",
    "\n",
    "\\\\\n",
    "To prove the last assertion in (iv),note that by $It\\hat{o}$'s formula\n",
    "  $$d(R_t^2)=2R_tdR_t+(dR_t)^2=2R_tdR_t+dt,$$\n",
    " so, since $R_t$ has orthogonal increments,\n",
    " $$E[R_t^2]=E[\\int_0^tds]=t$$\n",
    " Therefore,if s< t,\n",
    " $$E[R_tR_s]=E[(R_t-R_s)R_s]+E[R_s^2]=E[R_s^2]=s$$\n",
    " 性质(i)(ii)和(iv)是一维Brownian Motion的几个特征。\\\\\n",
    " \n",
    " Since $$\\mathcal{L}(N,t)=\\mathcal{L}(Z,t)$$\n",
    " we conclude that $$\\hat{X_t}=\\mathcal{P}_{\\mathcal{L}(R,t)}(X_t)$$ \\\\\n",
    " \n",
    " It turns out that the projection down to the space $\\mathcal{L}(R,t)$ can be described very nicely:(compare with formula (6.2.5)in Example 6.2.1)\n",
    " "
   ]
  },
  {
   "cell_type": "markdown",
   "metadata": {
    "collapsed": true
   },
   "source": [
    "#### 引理 6.2.7"
   ]
  },
  {
   "cell_type": "markdown",
   "metadata": {
    "collapsed": true
   },
   "source": [
    "$\\begin{align}\n",
    "\\hat{X_t}=E[X_t]+\\int_0^t\\frac{\\partial }{\\partial s}E[X_tR_s]dR_s\n",
    "\\end{align}$"
   ]
  },
  {
   "cell_type": "markdown",
   "metadata": {
    "collapsed": true
   },
   "source": [
    "$Proof:$From 引理6.2.4 we know that \n",
    "$$\\hat{X_t}=c_0(t)+\\int_0^tg(s)dR_s      \\  \\  \\  \\ \\ \\ \\ \\ \\ \\  \\     \\  for \\ some \\ g\\in L^2[0,t],c_0(t)\\in \\mathbf{R}$$"
   ]
  },
  {
   "cell_type": "markdown",
   "metadata": {
    "collapsed": true
   },
   "source": [
    "Taking expectations we see that $c_0(t)=E[\\hat{X_t}]=E[X_t]$.We have \n",
    "$$(X_t-\\hat{X_t})\n",
    "\\perp\\int_0^tf(s)dR_s \\   \\    \\  \\ \\ \\ \\ \\ \\ \\ \\ \\ \\ \\ \\ for\\ all\\ f\\in L^2[0,t]$$\n",
    "Therefore\n",
    "$$E[X_t\\int_0^tf(s)dR_s]=E[\\hat{X_t}\\int_0^tf(s)dR_s]=E[\\int_0^tg(s)dR_s\\int_0^tf(s)dR_s]\\\\\n",
    "=E[\\int_0^tg(s)f(s)ds]=\\int_0^t g(s)f(s)ds, \\ \\ \\ \\ \\ \\ \\ \\ \\ \\ \\ \\ \\ \\  for \\ all \\ f \\in L^2[0,t]$$\n",
    "where we have used the $It\\hat{o}$ isometry .In particular ,if we choose $f=\\mathcal{X}_{[0,r]}$ for some $r\\leq t$,we obtain \n",
    "$$E[X_tR_t]=\\int_0^rg(s)ds$$\n",
    "or $$g(r)=\\frac{\\partial}{\\partial r}E[X_rR_r], \\ \\ \\ \\ \\ \\ \\ \\ \\ \\ \\ \\  \\ \\ \\ \\ \\  as \\ asserted$$\n",
    "This completes Step 3."
   ]
  },
  {
   "cell_type": "markdown",
   "metadata": {
    "collapsed": true
   },
   "source": [
    "###  Step 4 .An Explicit Formula for $X_t$"
   ]
  },
  {
   "cell_type": "markdown",
   "metadata": {
    "collapsed": true
   },
   "source": [
    "This is easily obtained useing $It\\hat{o}$'s formula ,as in the $\\mathbf{examples \\ 5.1.3}$ \\\\\n",
    "\n",
    "The result is \n",
    "$$X_t=exp(\\int_0^tF(s)ds)[X_0+\\int_0^texp(-\\int_0^sF(u)du)C(s)dU_s] \\\\\n",
    "=exp(\\int_0^tF(s)ds)X_0+\\int_0^texp(\\int_s^tF(u)du)C(s)dU_s$$ \\\\\n",
    "  \n",
    "  \n",
    "\n",
    "In particular, we note that $E[X_t]=E[X_0]exp(\\int_0^tF(s)ds)$  \\\\\n",
    "  \n",
    "  More generally ,if $0\\leq r\\leq t$ \\\\\n",
    "  \n",
    "  \n",
    "  $\\begin{align}\n",
    "  X_t=exp(\\int_r^tF(s)ds)X_r+\\int_r^texp(\\int_s^tF(u)du)C(s)dU_s\n",
    "  \\end{align}$"
   ]
  },
  {
   "cell_type": "markdown",
   "metadata": {},
   "source": [
    "### Step 5. The Stochastic Differential Equation for $X_t$"
   ]
  },
  {
   "cell_type": "markdown",
   "metadata": {},
   "source": []
  },
  {
   "cell_type": "markdown",
   "metadata": {},
   "source": []
  },
  {
   "cell_type": "markdown",
   "metadata": {},
   "source": [
    "-The Stochastic Differential Equation for $X_t$"
   ]
  },
  {
   "cell_type": "markdown",
   "metadata": {},
   "source": [
    "现在开始求$\\hat{X_t}$的随机微分公式\n",
    "\n",
    "前面提到$$\\hat{X_t}=c_0(t)+\\int_0^tf(s,t)dR_s \\ \\ \\ \\ \\ \\ \\ \\ \\ \\ \\ \\  where\\ c_0(t)=E[X_t]$$\n",
    "\n",
    "\n",
    "可以得到\n",
    "$\\begin{align}\n",
    "d\\hat{X_t}=c_0^{'}(t)dt+f(t,t)dR_t+(\\int_0^t\\frac{\\partial}{\\partial t}f(s,t)dR_s)dt\n",
    "\\end{align}$"
   ]
  },
  {
   "cell_type": "markdown",
   "metadata": {},
   "source": [
    "因为$$\\int_0^u(\\int_0^t\\frac{\\partial}{\\partial t}f(s,t)dR_s)dt=\\int_0^u(\\int_s^u\\frac{\\partial}{\\partial t}f(s,t)dt)dR_s\\\\\n",
    "=\\int_0^u(f(s,u)-f(s,s))dR_s=\\hat{X_u}-c_0(u)-\\int_0^uf(s,s)$$"
   ]
  },
  {
   "cell_type": "markdown",
   "metadata": {},
   "source": [
    "那么就有$$d\\hat{X_t}=c_0^{'}dt+\\frac{G(t)S(t)}{D(t)}dR_t+(\\int_0^tf(s,t)dR_s)F(t)dt$$\\\\\n",
    "\n",
    "\n",
    "或者有\n",
    "\n",
    "\n",
    "$\\begin{align}\n",
    "d\\hat{X_t}=c_0^{'}(t)dt+F(t)\\cdot (\\hat{X_t}-c_0(t))dt+\\frac{G(t)S(t)}{D(t)}dR_t \\\\\n",
    "=F(t)\\hat{X_t}dt+\\frac{G(t)S(t)}{D(t)}dR_t \\\\\n",
    "since \\ c_0^{'}(t)=F(t)c_0(t)(Step4)\n",
    "\\end{align}$"
   ]
  },
  {
   "cell_type": "markdown",
   "metadata": {},
   "source": [
    "如果将上面的$R_t$用$$dR_t=\\frac{1}{D(t)}[dZ_t-G(t)\\hat{X_t}dt]$$替换，将得到下面这个式子\\\\\n",
    "\n",
    "\n",
    "$\\begin{align}\n",
    "d\\hat{X_t}=(F(t)-\\frac{G^2(t)S(t)}{D^2(t)})\\hat{X_t}dt+\\frac{G(t)S(t)}{D^2(t)}dZ_t\n",
    "\\end{align}$"
   ]
  },
  {
   "cell_type": "markdown",
   "metadata": {},
   "source": [
    "利用上面的步骤，将得到一个结论"
   ]
  },
  {
   "cell_type": "markdown",
   "metadata": {},
   "source": [
    "### 定理6.2.8（The 1-dimensional Kalman-Bucy filter）"
   ]
  },
  {
   "cell_type": "markdown",
   "metadata": {},
   "source": [
    "The solution $\\hat{X_t}=E[X_t|\\mathcal{G}_t]$ of the $1-dimentional\\ linear\\ filtering\\ problem$\\\\\n",
    "\n",
    "(linear system ) $\\begin{align}dX_t=F(t)X_tdt+C(t)dU_t;\\ \\ \\ F(t),C(t)\\in \\mathbf{R}\\end{align}$ \\\\\n",
    "\n",
    "(linear observations) $\\begin{align}dZ_t=G(t)X_tdt+D(t)dV_t;G(t),D(t)\\in \\mathbf{R}\\end{align}$\n",
    "\n",
    "\n",
    "(with conditions as stated eariler)satisfies the stochastic differential equation\n",
    "\n",
    "\n",
    "$\\begin{align}\n",
    "d\\hat{X_t}=(F(t)-\\frac{G^2(t)S(t)}{D^2(t)})\\hat{X_t}dt+\\frac{G(t)S(t)}{D^2(t)}dZ_t\n",
    "\\end{align}$\n",
    "\n",
    "where \n",
    "\n",
    "\n",
    "$\\begin{align}\n",
    "S(t)=E[(X_t-\\hat{X_t})^2]\\ \\  satisfies\\ \\ the \\ \\ (deterministic)\\ \\ Riccati \\ \\ equation \\\\\n",
    "\\frac{dS}{dt}=2F(t)S(t)-\\frac{G^2(t)}{D^2(t)}S^2(t)+C^2(t),S(0)=E[(X_0-\\hat{X_0})^2]\n",
    "\\end{align}$"
   ]
  },
  {
   "cell_type": "code",
   "execution_count": null,
   "metadata": {
    "collapsed": true
   },
   "outputs": [],
   "source": []
  },
  {
   "cell_type": "code",
   "execution_count": null,
   "metadata": {
    "collapsed": true
   },
   "outputs": [],
   "source": []
  },
  {
   "cell_type": "code",
   "execution_count": null,
   "metadata": {
    "collapsed": true
   },
   "outputs": [],
   "source": []
  },
  {
   "cell_type": "code",
   "execution_count": null,
   "metadata": {
    "collapsed": true
   },
   "outputs": [],
   "source": []
  }
 ],
 "metadata": {
  "kernelspec": {
   "display_name": "wanmen35",
   "language": "python",
   "name": "wanmen35"
  },
  "language_info": {
   "codemirror_mode": {
    "name": "ipython",
    "version": 3
   },
   "file_extension": ".py",
   "mimetype": "text/x-python",
   "name": "python",
   "nbconvert_exporter": "python",
   "pygments_lexer": "ipython3",
   "version": "3.5.4"
  }
 },
 "nbformat": 4,
 "nbformat_minor": 2
}
